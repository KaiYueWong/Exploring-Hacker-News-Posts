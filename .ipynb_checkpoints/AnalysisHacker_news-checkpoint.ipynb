{
 "cells": [
  {
   "cell_type": "markdown",
   "metadata": {
    "collapsed": true
   },
   "source": [
    "# Exploring Hacker New Post\n",
    "Hacker News is a site extremely popular in technology and startup circles. As a result, posts that make it to the top of Hacker News' listings can get hundreds of thousands of visitors as as result.\n",
    "\n",
    "Title with either \"Ask HN\" or \"Show HN\" are particular interesting topics. \"Ask HN\" posts usually are question posts to the Hacker News community and \"Show HN\" posts are submissions to Hacker News community a project, product or just something interesting.\n",
    "\n",
    "So, it is interesting to know more about which topics are having more comments on average. The \"Ask HN\" posts? Or the \"Show HN\" posts? Are there posts created at a certain time receive more comments on average? \n",
    "\n",
    "Let's us explore together! If you are interesting to know more about the dataset, please visit [here](https://www.kaggle.com/hacker-news/hacker-news-posts)"
   ]
  },
  {
   "cell_type": "markdown",
   "metadata": {},
   "source": [
    "## Import the Hacker New dataset"
   ]
  },
  {
   "cell_type": "code",
   "execution_count": 1,
   "metadata": {},
   "outputs": [
    {
     "ename": "FileNotFoundError",
     "evalue": "[Errno 2] No such file or directory: 'hacker_news.csv'",
     "output_type": "error",
     "traceback": [
      "\u001b[0;31m---------------------------------------------------------------------------\u001b[0m",
      "\u001b[0;31mFileNotFoundError\u001b[0m                         Traceback (most recent call last)",
      "\u001b[0;32m<ipython-input-1-044285063578>\u001b[0m in \u001b[0;36m<module>\u001b[0;34m\u001b[0m\n\u001b[1;32m      1\u001b[0m \u001b[0;32mimport\u001b[0m \u001b[0mcsv\u001b[0m\u001b[0;34m\u001b[0m\u001b[0;34m\u001b[0m\u001b[0m\n\u001b[0;32m----> 2\u001b[0;31m \u001b[0mopened_file\u001b[0m \u001b[0;34m=\u001b[0m \u001b[0mopen\u001b[0m\u001b[0;34m(\u001b[0m\u001b[0;34m'hacker_news.csv'\u001b[0m\u001b[0;34m)\u001b[0m\u001b[0;34m\u001b[0m\u001b[0;34m\u001b[0m\u001b[0m\n\u001b[0m\u001b[1;32m      3\u001b[0m \u001b[0mReader\u001b[0m \u001b[0;34m=\u001b[0m \u001b[0mcsv\u001b[0m\u001b[0;34m.\u001b[0m\u001b[0mreader\u001b[0m\u001b[0;34m(\u001b[0m\u001b[0mopened_file\u001b[0m\u001b[0;34m)\u001b[0m\u001b[0;34m\u001b[0m\u001b[0;34m\u001b[0m\u001b[0m\n\u001b[1;32m      4\u001b[0m \u001b[0mAll_rows\u001b[0m \u001b[0;34m=\u001b[0m \u001b[0mlist\u001b[0m\u001b[0;34m(\u001b[0m\u001b[0mReader\u001b[0m\u001b[0;34m)\u001b[0m\u001b[0;34m\u001b[0m\u001b[0;34m\u001b[0m\u001b[0m\n\u001b[1;32m      5\u001b[0m \u001b[0mheaders\u001b[0m \u001b[0;34m=\u001b[0m \u001b[0mAll_rows\u001b[0m\u001b[0;34m[\u001b[0m\u001b[0;36m0\u001b[0m\u001b[0;34m]\u001b[0m\u001b[0;34m\u001b[0m\u001b[0;34m\u001b[0m\u001b[0m\n",
      "\u001b[0;31mFileNotFoundError\u001b[0m: [Errno 2] No such file or directory: 'hacker_news.csv'"
     ]
    }
   ],
   "source": [
    "import csv\n",
    "opened_file = open('hacker_news.csv')\n",
    "Reader = csv.reader(opened_file)\n",
    "All_rows = list(Reader)\n",
    "headers = All_rows[0]\n",
    "hn = All_rows[1:]"
   ]
  },
  {
   "cell_type": "code",
   "execution_count": null,
   "metadata": {},
   "outputs": [],
   "source": [
    "print(headers)\n",
    "print(hn[:5])"
   ]
  },
  {
   "cell_type": "code",
   "execution_count": null,
   "metadata": {},
   "outputs": [],
   "source": [
    "ask_posts = []\n",
    "show_posts = []\n",
    "other_posts = []\n",
    "\n",
    "for row in hn:\n",
    "    title = row[1]\n",
    "    title = title.lower()\n",
    "    if title.startswith('ask hn'):\n",
    "        ask_posts.append(row)\n",
    "    elif title.startswith('show hn'):\n",
    "        show_posts.append(row)\n",
    "    else:\n",
    "        other_posts.append(row)\n",
    "        \n",
    "print('There are {} ask posts'.format(len(ask_posts)))\n",
    "print('There are {} show posts'.format(len(show_posts)))\n",
    "print('There are {} other posts'.format(len(other_posts)))\n",
    "    "
   ]
  },
  {
   "cell_type": "markdown",
   "metadata": {},
   "source": [
    "## Header information\n",
    "\n",
    "id: The unique identifier from Hacker News for the post\n",
    "\n",
    "title: The title of the post\n",
    "\n",
    "url: The URL that the posts links to, if it the post has a URL\n",
    "\n",
    "num_points: The number of points the post acquired, calculated as the total number of upvotes minus the total number of downvotes\n",
    "\n",
    "num_comments: The number of comments that were made on the post\n",
    "\n",
    "author: The username of the person who submitted the post\n",
    "\n",
    "created_at: The date and time at which the post was submitted"
   ]
  },
  {
   "cell_type": "markdown",
   "metadata": {},
   "source": [
    "## Let's find the average number of comments in ask posts and show posts"
   ]
  },
  {
   "cell_type": "code",
   "execution_count": null,
   "metadata": {},
   "outputs": [],
   "source": [
    "def cal_num(posts, row):\n",
    "    \n",
    "    total_comments = 0\n",
    "\n",
    "    for row in posts:\n",
    "        num_comment = row[4]\n",
    "        total_comments += int(num_comment)\n",
    "    return total_comments"
   ]
  },
  {
   "cell_type": "code",
   "execution_count": null,
   "metadata": {},
   "outputs": [],
   "source": [
    "total_ask_comments = cal_num(ask_posts, 4)\n",
    "aveg_ask_comments = total_ask_comments / len(ask_posts)\n",
    "print(aveg_ask_comments)\n",
    "\n",
    "total_show_comments = cal_num(show_posts, 4)\n",
    "avg_show_comments = total_show_comments / len(show_posts)\n",
    "print(avg_show_comments)\n"
   ]
  },
  {
   "cell_type": "markdown",
   "metadata": {},
   "source": [
    "By comparing the two average numbers above, we can certainly say that there are receiving more comments on average. "
   ]
  },
  {
   "cell_type": "markdown",
   "metadata": {},
   "source": [
    "## To analyze the behavior of ask post comments, we would like to study:\n",
    "If the ask posts created at a certain time are more likely to attract comments. We will:\n",
    "- Calculate the amount of ask posts created in each hour of day, along with the number of comments received.\n",
    "- Calculate the average number of comments ask posts receive by hour created."
   ]
  },
  {
   "cell_type": "code",
   "execution_count": null,
   "metadata": {},
   "outputs": [],
   "source": [
    "import datetime as dt\n",
    "\n",
    "result_list = []\n",
    "\n",
    "for row in ask_posts:\n",
    "    created_at = row[6]\n",
    "    num_comment = row[4]\n",
    "    result_list.append([created_at, int(num_comment)])"
   ]
  },
  {
   "cell_type": "markdown",
   "metadata": {},
   "source": [
    "Find the number of posts and number of comments for each hour"
   ]
  },
  {
   "cell_type": "code",
   "execution_count": null,
   "metadata": {},
   "outputs": [],
   "source": [
    "counts_by_hour = {}\n",
    "comments_by_hour = {}\n",
    "\n",
    "for row in result_list:\n",
    "    row_dt = dt.datetime.strptime(row[0],'%m/%d/%Y %H:%M')\n",
    "    Hour = row_dt.strftime('%H') # Extract hours from datetime\n",
    "\n",
    "    if Hour not in counts_by_hour:\n",
    "        counts_by_hour[Hour] = 1\n",
    "        comments_by_hour[Hour] = row[1]\n",
    "    else:\n",
    "        counts_by_hour[Hour] += 1\n",
    "        comments_by_hour[Hour] += row[1]\n",
    "\n",
    "print(counts_by_hour)\n",
    "print(comments_by_hour)"
   ]
  },
  {
   "cell_type": "code",
   "execution_count": null,
   "metadata": {},
   "outputs": [],
   "source": [
    "avg_by_hour = []\n",
    "for key in counts_by_hour:\n",
    "    avg = comments_by_hour[key] / counts_by_hour[key]\n",
    "    avg_by_hour.append([key, avg])"
   ]
  },
  {
   "cell_type": "markdown",
   "metadata": {},
   "source": [
    "Inspect the frequency dictionary based on 'hour' key"
   ]
  },
  {
   "cell_type": "code",
   "execution_count": null,
   "metadata": {},
   "outputs": [],
   "source": [
    "print(avg_by_hour)"
   ]
  },
  {
   "cell_type": "markdown",
   "metadata": {},
   "source": [
    "Swap the two columns in the average hour dictionary for better inspection."
   ]
  },
  {
   "cell_type": "code",
   "execution_count": null,
   "metadata": {},
   "outputs": [],
   "source": [
    "swap_avg_by_hour = []\n",
    "for row in avg_by_hour:\n",
    "    swap_avg_by_hour.append([row[1], row[0]])\n",
    "\n",
    "print(swap_avg_by_hour)"
   ]
  },
  {
   "cell_type": "markdown",
   "metadata": {},
   "source": [
    "Sort the Swapped Average Hour located the maximum average comment per post at a given time"
   ]
  },
  {
   "cell_type": "code",
   "execution_count": null,
   "metadata": {},
   "outputs": [],
   "source": [
    "sorted_swap = sorted(swap_avg_by_hour, reverse = True)"
   ]
  },
  {
   "cell_type": "code",
   "execution_count": null,
   "metadata": {},
   "outputs": [],
   "source": [
    "for row in sorted_swap:\n",
    "    template = '{HourMinute}: {Avg_per_post:.2f} average comments per post'\n",
    "    Hour = dt.datetime.strptime(row[1],'%H') # Create datetime hour, # Format should match your str\n",
    "    Pt = Hour.strftime('%H:00') # Convert hour to str\n",
    "    print(template.format(HourMinute = Pt, Avg_per_post =row[0]))\n"
   ]
  },
  {
   "cell_type": "markdown",
   "metadata": {},
   "source": [
    "# Conclusion\n",
    "We have to notice that the above time schedule are in Eastern Time (EST) in the US. As we are residents in Europe, it would be nice to convert EST to Central Europe Time (CET).\n"
   ]
  },
  {
   "cell_type": "code",
   "execution_count": null,
   "metadata": {},
   "outputs": [],
   "source": [
    "for row in sorted_swap:\n",
    "    template = '{HourMinute}: {Avg_per_post:.2f} average comments per post'\n",
    "    Hour = dt.datetime.strptime(row[1],'%H') # Create datetime hour, # Format should match your str\n",
    "    Hour = Hour + dt.timedelta(hours = 6)\n",
    "    Pt = Hour.strftime('%H:00') # Convert hour to str\n",
    "    print(template.format(HourMinute = Pt, Avg_per_post =row[0]))"
   ]
  },
  {
   "cell_type": "markdown",
   "metadata": {},
   "source": [
    "By refering to the average comments per post for each hour, we found that posts created at around 9pm, 10pm, 2am and 3 am have a higher chance of receiving comments. Post created in the midnight (3am) also have a good chance of receiving comments because \n"
   ]
  }
 ],
 "metadata": {
  "kernelspec": {
   "display_name": "Python 3",
   "language": "python",
   "name": "python3"
  },
  "language_info": {
   "codemirror_mode": {
    "name": "ipython",
    "version": 3
   },
   "file_extension": ".py",
   "mimetype": "text/x-python",
   "name": "python",
   "nbconvert_exporter": "python",
   "pygments_lexer": "ipython3",
   "version": "3.7.6"
  }
 },
 "nbformat": 4,
 "nbformat_minor": 2
}
