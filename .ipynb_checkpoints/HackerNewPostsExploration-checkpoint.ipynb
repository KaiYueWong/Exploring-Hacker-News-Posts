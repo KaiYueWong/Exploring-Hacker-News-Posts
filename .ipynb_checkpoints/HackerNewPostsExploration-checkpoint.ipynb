{
 "cells": [
  {
   "cell_type": "markdown",
   "metadata": {},
   "source": [
    "id: \n",
    "The unique identifier from Hacker News for the post\n",
    "\n",
    "title: \n",
    "The title of the post\n",
    "\n",
    "url: \n",
    "The URL that the posts links to, if it the post has a URL\n",
    "\n",
    "num_points: \n",
    "The number of points the post acquired, calculated as the total number of upvotes minus the total number of downvotes\n",
    "\n",
    "num_comments: \n",
    "The number of comments that were made on the post\n",
    "\n",
    "author: \n",
    "The username of the person who submitted the post\n",
    "\n",
    "created_at: \n",
    "The date and time at which the post was submitted"
   ]
  },
  {
   "cell_type": "markdown",
   "metadata": {},
   "source": [
    "# Exploring Hacker New Post\n",
    "Hacker News is a site extremely popular in technology and startup circles. As a result, posts that make it to the top of Hacker News' listings can get hundreds of thousands of visitors as as result.\n",
    "\n",
    "Title with either \"Ask HN\" or \"Show HN\" are particular interesting topics. \"Ask HN\" posts usually are question posts to the Hacker News community and \"Show HN\" posts are submissions to Hacker News community a project, product or just something interesting.\n",
    "\n",
    "So, it is interesting to know more about which topics are having more comments on average. The \"Ask HN\" posts? Or the \"Show HN\" posts? Are there posts created at a certain time receive more comments on average? \n",
    "\n",
    "Let's us explore together! If you are interesting to know more about the dataset, please visit [here](https://www.kaggle.com/hacker-news/hacker-news-posts)"
   ]
  },
  {
   "cell_type": "markdown",
   "metadata": {},
   "source": [
    "## Reading the dataset"
   ]
  },
  {
   "cell_type": "code",
   "execution_count": 3,
   "metadata": {},
   "outputs": [
    {
     "name": "stderr",
     "output_type": "stream",
     "text": [
      "IOPub data rate exceeded.\n",
      "The notebook server will temporarily stop sending output\n",
      "to the client in order to avoid crashing it.\n",
      "To change this limit, set the config variable\n",
      "`--NotebookApp.iopub_data_rate_limit`.\n",
      "\n",
      "Current values:\n",
      "NotebookApp.iopub_data_rate_limit=1000000.0 (bytes/sec)\n",
      "NotebookApp.rate_limit_window=3.0 (secs)\n",
      "\n"
     ]
    }
   ],
   "source": [
    "import csv\n",
    "opened_file = open('hacker_news.csv')\n",
    "Reader = csv.reader(opened_file)\n",
    "All_rows = list(Reader)\n",
    "print(All_rows)"
   ]
  },
  {
   "cell_type": "code",
   "execution_count": null,
   "metadata": {},
   "outputs": [],
   "source": []
  }
 ],
 "metadata": {
  "kernelspec": {
   "display_name": "Python 3",
   "language": "python",
   "name": "python3"
  },
  "language_info": {
   "codemirror_mode": {
    "name": "ipython",
    "version": 3
   },
   "file_extension": ".py",
   "mimetype": "text/x-python",
   "name": "python",
   "nbconvert_exporter": "python",
   "pygments_lexer": "ipython3",
   "version": "3.7.6"
  }
 },
 "nbformat": 4,
 "nbformat_minor": 2
}
